{
 "cells": [
  {
   "cell_type": "code",
   "execution_count": 1,
   "id": "b42c72f9",
   "metadata": {
    "_cell_guid": "b1076dfc-b9ad-4769-8c92-a6c4dae69d19",
    "_uuid": "8f2839f25d086af736a60e9eeb907d3b93b6e0e5",
    "execution": {
     "iopub.execute_input": "2022-07-28T08:58:16.271434Z",
     "iopub.status.busy": "2022-07-28T08:58:16.270004Z",
     "iopub.status.idle": "2022-07-28T08:58:17.413482Z",
     "shell.execute_reply": "2022-07-28T08:58:17.412485Z"
    },
    "papermill": {
     "duration": 1.157385,
     "end_time": "2022-07-28T08:58:17.416603",
     "exception": false,
     "start_time": "2022-07-28T08:58:16.259218",
     "status": "completed"
    },
    "tags": []
   },
   "outputs": [
    {
     "name": "stdout",
     "output_type": "stream",
     "text": [
      "/kaggle/input/aryaai-dataset/Assignment - Data Scientist (1).docx\n",
      "/kaggle/input/aryaai-dataset/Arya_DataScientist_Assignment/test_set.csv\n",
      "/kaggle/input/aryaai-dataset/Arya_DataScientist_Assignment/training_set.csv\n"
     ]
    }
   ],
   "source": [
    "# This Python 3 environment comes with many helpful analytics libraries installed\n",
    "# It is defined by the kaggle/python Docker image: https://github.com/kaggle/docker-python\n",
    "# For example, here's several helpful packages to load\n",
    "\n",
    "import numpy as np # linear algebra\n",
    "import pandas as pd # data processing, CSV file I/O (e.g. pd.read_csv)\n",
    "from sklearn.model_selection import train_test_split\n",
    "from sklearn.ensemble import RandomForestClassifier, GradientBoostingClassifier\n",
    "from sklearn.neighbors import KNeighborsClassifier\n",
    "from sklearn.tree import DecisionTreeClassifier\n",
    "from sklearn.linear_model import LogisticRegression\n",
    "from sklearn.svm import SVC\n",
    "from sklearn.model_selection import cross_validate\n",
    "from sklearn.pipeline import Pipeline\n",
    "from sklearn.metrics import accuracy_score\n",
    "from sklearn.preprocessing import StandardScaler\n",
    "from sklearn.model_selection import GridSearchCV\n",
    "\n",
    "\n",
    "\n",
    "\n",
    "\n",
    "# Input data files are available in the read-only \"../input/\" directory\n",
    "# For example, running this (by clicking run or pressing Shift+Enter) will list all files under the input directory\n",
    "\n",
    "import os\n",
    "for dirname, _, filenames in os.walk('/kaggle/input'):\n",
    "    for filename in filenames:\n",
    "        print(os.path.join(dirname, filename))\n",
    "\n",
    "# You can write up to 20GB to the current directory (/kaggle/working/) that gets preserved as output when you create a version using \"Save & Run All\" \n",
    "# You can also write temporary files to /kaggle/temp/, but they won't be saved outside of the current session"
   ]
  },
  {
   "cell_type": "markdown",
   "id": "c7da859c",
   "metadata": {
    "papermill": {
     "duration": 0.007798,
     "end_time": "2022-07-28T08:58:17.432695",
     "exception": false,
     "start_time": "2022-07-28T08:58:17.424897",
     "status": "completed"
    },
    "tags": []
   },
   "source": [
    "**Notebook should contain :**\n",
    "1. EDA, Feature selection, preprocessing\n",
    "2. Model performance analysis in terms of validation and risks involved\n",
    "3. model predictions for test dataset\n",
    "4. write the dependencies, libraries in seperate python file\n",
    "5. Readme file - approach to solve prob, thought process\n",
    "\n",
    "**Task steps:**\n",
    "1. Split the train set into train and validation in 4:1 ratio\n",
    "2. Explain model selection. Apply classification model \n",
    "3. Evaluate model accuracy\n",
    "\n"
   ]
  },
  {
   "cell_type": "markdown",
   "id": "f31a5b61",
   "metadata": {
    "papermill": {
     "duration": 0.007055,
     "end_time": "2022-07-28T08:58:17.445809",
     "exception": false,
     "start_time": "2022-07-28T08:58:17.438754",
     "status": "completed"
    },
    "tags": []
   },
   "source": [
    "## Approach:\n",
    "\n",
    "Notebook 1: \n",
    "\n",
    "1. Load and split the data \n",
    "\n",
    "2. Standardize and Pipeline tree-based algorithms to handle data imbalances\n",
    "\n",
    "3. Obtain algorithms with highest accuracy\n",
    "\n",
    "4. Tune the algorithm and find best parameters\n",
    "\n",
    "Notebook 2:\n",
    "\n",
    "1. Explore the dataset \n",
    "    - Check data relations\n",
    "    - Data correlations\n",
    "    - Missing values\n",
    "    - Outliers\n",
    "    - Different data types\n",
    "    - Fix data distribution skewness, kurtosis\n",
    "    - Fix outliers\n",
    "    - Scale, undersample the data\n",
    "    \n",
    "2. Split the cleaned data into 3 sets ( Test, Train, validation set)\n",
    "\n",
    "3. Utilise 5 fold validation and compare accuracy / recall / roc-auc scores for train, test and validation sets \n",
    "\n",
    "4. Take the parameters and model from notebook1. Integrate data with this model.\n",
    "\n",
    "5. Plot confusion matrix, roc-auc curves and expected-actual prediction\n"
   ]
  },
  {
   "cell_type": "markdown",
   "id": "6a0d57e4",
   "metadata": {
    "papermill": {
     "duration": 0.011276,
     "end_time": "2022-07-28T08:58:17.467062",
     "exception": false,
     "start_time": "2022-07-28T08:58:17.455786",
     "status": "completed"
    },
    "tags": []
   },
   "source": [
    "## Load the data"
   ]
  },
  {
   "cell_type": "code",
   "execution_count": 2,
   "id": "344f9428",
   "metadata": {
    "execution": {
     "iopub.execute_input": "2022-07-28T08:58:17.484409Z",
     "iopub.status.busy": "2022-07-28T08:58:17.483968Z",
     "iopub.status.idle": "2022-07-28T08:58:17.570962Z",
     "shell.execute_reply": "2022-07-28T08:58:17.569961Z"
    },
    "papermill": {
     "duration": 0.098672,
     "end_time": "2022-07-28T08:58:17.573526",
     "exception": false,
     "start_time": "2022-07-28T08:58:17.474854",
     "status": "completed"
    },
    "tags": []
   },
   "outputs": [],
   "source": [
    "train_df = pd.read_csv('../input/aryaai-dataset/Arya_DataScientist_Assignment/training_set.csv')\n",
    "test_df = pd.read_csv('../input/aryaai-dataset/Arya_DataScientist_Assignment/test_set.csv')"
   ]
  },
  {
   "cell_type": "code",
   "execution_count": 3,
   "id": "69e9eee2",
   "metadata": {
    "execution": {
     "iopub.execute_input": "2022-07-28T08:58:17.592330Z",
     "iopub.status.busy": "2022-07-28T08:58:17.591407Z",
     "iopub.status.idle": "2022-07-28T08:58:17.627675Z",
     "shell.execute_reply": "2022-07-28T08:58:17.626048Z"
    },
    "papermill": {
     "duration": 0.048746,
     "end_time": "2022-07-28T08:58:17.630523",
     "exception": false,
     "start_time": "2022-07-28T08:58:17.581777",
     "status": "completed"
    },
    "tags": []
   },
   "outputs": [
    {
     "name": "stdout",
     "output_type": "stream",
     "text": [
      "<class 'pandas.core.frame.DataFrame'>\n",
      "RangeIndex: 3910 entries, 0 to 3909\n",
      "Data columns (total 59 columns):\n",
      " #   Column      Non-Null Count  Dtype  \n",
      "---  ------      --------------  -----  \n",
      " 0   Unnamed: 0  3910 non-null   int64  \n",
      " 1   X1          3910 non-null   float64\n",
      " 2   X2          3910 non-null   float64\n",
      " 3   X3          3910 non-null   float64\n",
      " 4   X4          3910 non-null   float64\n",
      " 5   X5          3910 non-null   float64\n",
      " 6   X6          3910 non-null   float64\n",
      " 7   X7          3910 non-null   float64\n",
      " 8   X8          3910 non-null   float64\n",
      " 9   X9          3910 non-null   float64\n",
      " 10  X10         3910 non-null   float64\n",
      " 11  X11         3910 non-null   float64\n",
      " 12  X12         3910 non-null   float64\n",
      " 13  X13         3910 non-null   float64\n",
      " 14  X14         3910 non-null   float64\n",
      " 15  X15         3910 non-null   float64\n",
      " 16  X16         3910 non-null   float64\n",
      " 17  X17         3910 non-null   float64\n",
      " 18  X18         3910 non-null   float64\n",
      " 19  X19         3910 non-null   float64\n",
      " 20  X20         3910 non-null   float64\n",
      " 21  X21         3910 non-null   float64\n",
      " 22  X22         3910 non-null   float64\n",
      " 23  X23         3910 non-null   float64\n",
      " 24  X24         3910 non-null   float64\n",
      " 25  X25         3910 non-null   float64\n",
      " 26  X26         3910 non-null   float64\n",
      " 27  X27         3910 non-null   float64\n",
      " 28  X28         3910 non-null   float64\n",
      " 29  X29         3910 non-null   float64\n",
      " 30  X30         3910 non-null   float64\n",
      " 31  X31         3910 non-null   float64\n",
      " 32  X32         3910 non-null   float64\n",
      " 33  X33         3910 non-null   float64\n",
      " 34  X34         3910 non-null   float64\n",
      " 35  X35         3910 non-null   float64\n",
      " 36  X36         3910 non-null   float64\n",
      " 37  X37         3910 non-null   float64\n",
      " 38  X38         3910 non-null   float64\n",
      " 39  X39         3910 non-null   float64\n",
      " 40  X40         3910 non-null   float64\n",
      " 41  X41         3910 non-null   float64\n",
      " 42  X42         3910 non-null   float64\n",
      " 43  X43         3910 non-null   float64\n",
      " 44  X44         3910 non-null   float64\n",
      " 45  X45         3910 non-null   float64\n",
      " 46  X46         3910 non-null   float64\n",
      " 47  X47         3910 non-null   float64\n",
      " 48  X48         3910 non-null   float64\n",
      " 49  X49         3910 non-null   float64\n",
      " 50  X50         3910 non-null   float64\n",
      " 51  X51         3910 non-null   float64\n",
      " 52  X52         3910 non-null   float64\n",
      " 53  X53         3910 non-null   float64\n",
      " 54  X54         3910 non-null   float64\n",
      " 55  X55         3910 non-null   float64\n",
      " 56  X56         3910 non-null   int64  \n",
      " 57  X57         3910 non-null   int64  \n",
      " 58  Y           3910 non-null   int64  \n",
      "dtypes: float64(55), int64(4)\n",
      "memory usage: 1.8 MB\n"
     ]
    }
   ],
   "source": [
    "train_df.info()"
   ]
  },
  {
   "cell_type": "markdown",
   "id": "22cb6f93",
   "metadata": {
    "papermill": {
     "duration": 0.007481,
     "end_time": "2022-07-28T08:58:17.646302",
     "exception": false,
     "start_time": "2022-07-28T08:58:17.638821",
     "status": "completed"
    },
    "tags": []
   },
   "source": [
    "## EDA"
   ]
  },
  {
   "cell_type": "code",
   "execution_count": 4,
   "id": "ea14df70",
   "metadata": {
    "execution": {
     "iopub.execute_input": "2022-07-28T08:58:17.663863Z",
     "iopub.status.busy": "2022-07-28T08:58:17.663364Z",
     "iopub.status.idle": "2022-07-28T08:58:17.673345Z",
     "shell.execute_reply": "2022-07-28T08:58:17.672347Z"
    },
    "papermill": {
     "duration": 0.022448,
     "end_time": "2022-07-28T08:58:17.676373",
     "exception": false,
     "start_time": "2022-07-28T08:58:17.653925",
     "status": "completed"
    },
    "tags": []
   },
   "outputs": [],
   "source": [
    "x = train_df.drop('Y',axis=1)\n",
    "y = train_df['Y']"
   ]
  },
  {
   "cell_type": "code",
   "execution_count": 5,
   "id": "3735b8f3",
   "metadata": {
    "execution": {
     "iopub.execute_input": "2022-07-28T08:58:17.693534Z",
     "iopub.status.busy": "2022-07-28T08:58:17.693116Z",
     "iopub.status.idle": "2022-07-28T08:58:17.703254Z",
     "shell.execute_reply": "2022-07-28T08:58:17.702278Z"
    },
    "papermill": {
     "duration": 0.021661,
     "end_time": "2022-07-28T08:58:17.706034",
     "exception": false,
     "start_time": "2022-07-28T08:58:17.684373",
     "status": "completed"
    },
    "tags": []
   },
   "outputs": [],
   "source": [
    "xtrain, xtest, ytrain, ytest = train_test_split(x, y,train_size=0.33)\n"
   ]
  },
  {
   "cell_type": "code",
   "execution_count": 6,
   "id": "7f9ac5ce",
   "metadata": {
    "execution": {
     "iopub.execute_input": "2022-07-28T08:58:17.724046Z",
     "iopub.status.busy": "2022-07-28T08:58:17.723625Z",
     "iopub.status.idle": "2022-07-28T08:58:17.729766Z",
     "shell.execute_reply": "2022-07-28T08:58:17.728606Z"
    },
    "papermill": {
     "duration": 0.021149,
     "end_time": "2022-07-28T08:58:17.735588",
     "exception": false,
     "start_time": "2022-07-28T08:58:17.714439",
     "status": "completed"
    },
    "tags": []
   },
   "outputs": [
    {
     "name": "stdout",
     "output_type": "stream",
     "text": [
      "(1290, 58) \n",
      " (2620, 58) \n",
      " (1290,) \n",
      " (2620,)\n"
     ]
    }
   ],
   "source": [
    "print(xtrain.shape,'\\n',xtest.shape,'\\n',ytrain.shape,'\\n',ytest.shape)"
   ]
  },
  {
   "cell_type": "markdown",
   "id": "301dc990",
   "metadata": {
    "papermill": {
     "duration": 0.008253,
     "end_time": "2022-07-28T08:58:17.753492",
     "exception": false,
     "start_time": "2022-07-28T08:58:17.745239",
     "status": "completed"
    },
    "tags": []
   },
   "source": [
    "Let's try out the logistic regression algorithm with a pipeline to see how well the numerical data fits to a curve."
   ]
  },
  {
   "cell_type": "code",
   "execution_count": 7,
   "id": "c37d7a6b",
   "metadata": {
    "execution": {
     "iopub.execute_input": "2022-07-28T08:58:17.771395Z",
     "iopub.status.busy": "2022-07-28T08:58:17.770967Z",
     "iopub.status.idle": "2022-07-28T08:58:18.125308Z",
     "shell.execute_reply": "2022-07-28T08:58:18.124218Z"
    },
    "papermill": {
     "duration": 0.366303,
     "end_time": "2022-07-28T08:58:18.128023",
     "exception": false,
     "start_time": "2022-07-28T08:58:17.761720",
     "status": "completed"
    },
    "tags": []
   },
   "outputs": [
    {
     "name": "stdout",
     "output_type": "stream",
     "text": [
      "0.9069767441860466\n"
     ]
    }
   ],
   "source": [
    "\n",
    "\n",
    "pipeline = Pipeline([('normalizer', StandardScaler()), #Step1 - normalize data\n",
    "    ('clf', LogisticRegression())])\n",
    "scores = cross_validate(pipeline, xtrain, ytrain)\n",
    "# print(scores)\n",
    "print(scores['test_score'].mean())"
   ]
  },
  {
   "cell_type": "markdown",
   "id": "3b9e0974",
   "metadata": {
    "papermill": {
     "duration": 0.008947,
     "end_time": "2022-07-28T08:58:18.143785",
     "exception": false,
     "start_time": "2022-07-28T08:58:18.134838",
     "status": "completed"
    },
    "tags": []
   },
   "source": [
    "The Avg test accuracy of logistic regression is 90.31%.\n",
    "\n",
    "Curious to checkout the score of other classification algorithms."
   ]
  },
  {
   "cell_type": "markdown",
   "id": "a7f32ebd",
   "metadata": {
    "papermill": {
     "duration": 0.00902,
     "end_time": "2022-07-28T08:58:18.161900",
     "exception": false,
     "start_time": "2022-07-28T08:58:18.152880",
     "status": "completed"
    },
    "tags": []
   },
   "source": [
    "## Pipelining classification algorithms \n",
    "\n",
    "We want to find this algorithm and improve its accuracy by cross-validating. \n",
    "\n",
    "> - Dtree\n",
    "> - GBDT\n",
    "> - SVM\n",
    "> - LogReg\n",
    "> - KNN"
   ]
  },
  {
   "cell_type": "code",
   "execution_count": 8,
   "id": "8cbed967",
   "metadata": {
    "execution": {
     "iopub.execute_input": "2022-07-28T08:58:18.181214Z",
     "iopub.status.busy": "2022-07-28T08:58:18.180927Z",
     "iopub.status.idle": "2022-07-28T08:58:22.297553Z",
     "shell.execute_reply": "2022-07-28T08:58:22.295466Z"
    },
    "papermill": {
     "duration": 4.129172,
     "end_time": "2022-07-28T08:58:22.300146",
     "exception": false,
     "start_time": "2022-07-28T08:58:18.170974",
     "status": "completed"
    },
    "tags": []
   },
   "outputs": [
    {
     "name": "stdout",
     "output_type": "stream",
     "text": [
      "_________________________\n",
      "DecisionTreeClassifier()\n",
      "_________________________\n",
      "0.8852713178294573\n",
      "_________________________\n",
      "RandomForestClassifier()\n",
      "_________________________\n",
      "0.9364341085271318\n",
      "_________________________\n",
      "GradientBoostingClassifier()\n",
      "_________________________\n",
      "0.9395348837209303\n",
      "_________________________\n",
      "LogisticRegression()\n",
      "_________________________\n",
      "0.9069767441860466\n",
      "_________________________\n",
      "SVC()\n",
      "_________________________\n",
      "0.9178294573643411\n"
     ]
    }
   ],
   "source": [
    "\n",
    "cl = []\n",
    "cl.append(DecisionTreeClassifier())\n",
    "cl.append(RandomForestClassifier())\n",
    "cl.append(GradientBoostingClassifier())\n",
    "cl.append(LogisticRegression())\n",
    "cl.append(SVC())\n",
    "\n",
    "pipeline = Pipeline([('normalizer', StandardScaler()), #Step1 - normalize data\n",
    "    ('clf', LogisticRegression())])\n",
    "pipeline.steps\n",
    "for c in cl:\n",
    "    pipeline.set_params(clf = c)\n",
    "    scores = cross_validate(pipeline, xtrain,ytrain)\n",
    "    print('_'*25)\n",
    "    print(str(c))\n",
    "    print('_'*25)\n",
    "    print(scores['test_score'].mean())\n",
    "#     for k, v in scores.items():\n",
    "#         print(k,'mean',v.mean())\n",
    "#         print(k,'std',v.std())\n",
    "#     print('_'*25)\n",
    "    \n",
    "    \n",
    "\n"
   ]
  },
  {
   "cell_type": "markdown",
   "id": "93fdf203",
   "metadata": {
    "papermill": {
     "duration": 0.005738,
     "end_time": "2022-07-28T08:58:22.311650",
     "exception": false,
     "start_time": "2022-07-28T08:58:22.305912",
     "status": "completed"
    },
    "tags": []
   },
   "source": [
    "The GradientBoostingClassifier() has highest accuracy of 94.57% \n",
    "\n",
    "We cross validate and perform parameter tuning to find the best parameters for GBC "
   ]
  },
  {
   "cell_type": "markdown",
   "id": "53262fa1",
   "metadata": {
    "papermill": {
     "duration": 0.004921,
     "end_time": "2022-07-28T08:58:22.321670",
     "exception": false,
     "start_time": "2022-07-28T08:58:22.316749",
     "status": "completed"
    },
    "tags": []
   },
   "source": [
    "## Parameter-tuning"
   ]
  },
  {
   "cell_type": "code",
   "execution_count": 9,
   "id": "733e60b6",
   "metadata": {
    "execution": {
     "iopub.execute_input": "2022-07-28T08:58:22.333652Z",
     "iopub.status.busy": "2022-07-28T08:58:22.332817Z",
     "iopub.status.idle": "2022-07-28T08:58:22.341713Z",
     "shell.execute_reply": "2022-07-28T08:58:22.340696Z"
    },
    "papermill": {
     "duration": 0.016792,
     "end_time": "2022-07-28T08:58:22.343549",
     "exception": false,
     "start_time": "2022-07-28T08:58:22.326757",
     "status": "completed"
    },
    "tags": []
   },
   "outputs": [
    {
     "data": {
      "text/plain": [
       "[('normalizer', StandardScaler()), ('clf', GradientBoostingClassifier())]"
      ]
     },
     "execution_count": 9,
     "metadata": {},
     "output_type": "execute_result"
    }
   ],
   "source": [
    "pipeline.set_params(clf= GradientBoostingClassifier())\n",
    "pipeline.steps"
   ]
  },
  {
   "cell_type": "code",
   "execution_count": 10,
   "id": "edadebe7",
   "metadata": {
    "execution": {
     "iopub.execute_input": "2022-07-28T08:58:22.355204Z",
     "iopub.status.busy": "2022-07-28T08:58:22.354946Z",
     "iopub.status.idle": "2022-07-28T09:10:51.272784Z",
     "shell.execute_reply": "2022-07-28T09:10:51.271763Z"
    },
    "papermill": {
     "duration": 748.932355,
     "end_time": "2022-07-28T09:10:51.281225",
     "exception": false,
     "start_time": "2022-07-28T08:58:22.348870",
     "status": "completed"
    },
    "tags": []
   },
   "outputs": [
    {
     "name": "stdout",
     "output_type": "stream",
     "text": [
      "Train Score 1.0\n",
      "Test Score 0.9408396946564885\n",
      "_________________________\n",
      "Best parameters {'learning_rate': 0.5, 'loss': 'deviance', 'max_depth': 3, 'n_estimators': 350}\n"
     ]
    }
   ],
   "source": [
    "parameters = {\n",
    "    \"loss\": [\"deviance\"],\n",
    "    \"learning_rate\": [0.05, 0.075, 0.1, 0.25, 0.5, 0.75, 1], \n",
    "    \"n_estimators\": [200, 350, 500, 750],\n",
    "    \"max_depth\": [3, 6, 8]\n",
    "#     \"loss\":[\"deviance\"],\n",
    "#     \"learning_rate\": [0.01, 0.025, 0.05, 0.075, 0.1, 0.15, 0.2],\n",
    "#     \"min_samples_split\": np.linspace(0.1, 0.5, 12),\n",
    "#     \"min_samples_leaf\": np.linspace(0.1, 0.5, 12),\n",
    "#     \"max_depth\":[3,5,8],\n",
    "#     \"max_features\":[\"log2\",\"sqrt\"],\n",
    "#     \"criterion\": [\"mae\"],\n",
    "#     \"subsample\":[0.5, 0.618, 0.8, 0.85, 0.9, 0.95, 1.0],\n",
    "#     \"n_estimators\":[10]\n",
    "    }\n",
    "cvgrid = GridSearchCV(GradientBoostingClassifier(),\n",
    "                      param_grid = parameters,cv=4,scoring='accuracy')\n",
    "cvgrid.fit(xtrain,ytrain)\n",
    "print('Train Score',cvgrid.score(xtrain,ytrain))\n",
    "print('Test Score',cvgrid.score(xtest,ytest))\n",
    "print('_'*25)\n",
    "print('Best parameters',cvgrid.best_params_)\n"
   ]
  },
  {
   "cell_type": "code",
   "execution_count": 11,
   "id": "11542c4b",
   "metadata": {
    "execution": {
     "iopub.execute_input": "2022-07-28T09:10:51.294376Z",
     "iopub.status.busy": "2022-07-28T09:10:51.294071Z",
     "iopub.status.idle": "2022-07-28T09:10:51.313277Z",
     "shell.execute_reply": "2022-07-28T09:10:51.312112Z"
    },
    "papermill": {
     "duration": 0.027617,
     "end_time": "2022-07-28T09:10:51.315350",
     "exception": false,
     "start_time": "2022-07-28T09:10:51.287733",
     "status": "completed"
    },
    "tags": []
   },
   "outputs": [
    {
     "name": "stdout",
     "output_type": "stream",
     "text": [
      "Accuracy after cv is  0.9408396946564885\n"
     ]
    }
   ],
   "source": [
    "ypred = cvgrid.predict(xtest)\n",
    "acc = accuracy_score(ytest,ypred)\n",
    "print('Accuracy after cv is ',acc)"
   ]
  },
  {
   "cell_type": "code",
   "execution_count": 12,
   "id": "ab521235",
   "metadata": {
    "execution": {
     "iopub.execute_input": "2022-07-28T09:10:51.327344Z",
     "iopub.status.busy": "2022-07-28T09:10:51.327063Z",
     "iopub.status.idle": "2022-07-28T09:10:51.338523Z",
     "shell.execute_reply": "2022-07-28T09:10:51.337682Z"
    },
    "papermill": {
     "duration": 0.019601,
     "end_time": "2022-07-28T09:10:51.340409",
     "exception": false,
     "start_time": "2022-07-28T09:10:51.320808",
     "status": "completed"
    },
    "tags": []
   },
   "outputs": [],
   "source": [
    "result = pd.DataFrame({'GBC pred':ypred})\n",
    "# test_df['Y'] = result\n",
    "# result = test_df[['Unnamed: 0','Y']]\n",
    "result.to_csv('result_gbc.csv')\n"
   ]
  },
  {
   "cell_type": "code",
   "execution_count": 13,
   "id": "ea46e121",
   "metadata": {
    "execution": {
     "iopub.execute_input": "2022-07-28T09:10:51.352523Z",
     "iopub.status.busy": "2022-07-28T09:10:51.352235Z",
     "iopub.status.idle": "2022-07-28T09:17:27.077622Z",
     "shell.execute_reply": "2022-07-28T09:17:27.076685Z"
    },
    "papermill": {
     "duration": 395.740954,
     "end_time": "2022-07-28T09:17:27.086830",
     "exception": false,
     "start_time": "2022-07-28T09:10:51.345876",
     "status": "completed"
    },
    "tags": []
   },
   "outputs": [
    {
     "name": "stdout",
     "output_type": "stream",
     "text": [
      "Train Score 0.9961240310077519\n",
      "Test Score 0.9396946564885497\n",
      "_________________________\n",
      "Best parameters {'criterion': 'entropy', 'max_depth': None, 'max_features': 'auto', 'min_samples_leaf': 1, 'min_samples_split': 4, 'n_estimators': 30}\n",
      "Accuracy after cv is  0.9396946564885497\n"
     ]
    }
   ],
   "source": [
    "hyperparameters = {\n",
    "    'n_estimators'      : list(range(10, 50, 10)),\n",
    "    'max_features'      : ['auto', 'sqrt', 'log2'],\n",
    "    'criterion'         : ['gini', 'entropy'],\n",
    "    'max_depth'         : [None, 1, 2, 3, 4, 5],\n",
    "    'min_samples_split' : list(range(2,5)),\n",
    "    'min_samples_leaf'  : list(range(1,5))\n",
    "}\n",
    "\n",
    "cvgrid2 = GridSearchCV(RandomForestClassifier(random_state=1),\n",
    "                      param_grid = hyperparameters,cv=4,scoring='accuracy')\n",
    "cvgrid2.fit(xtrain,ytrain)\n",
    "print('Train Score',cvgrid2.score(xtrain,ytrain))\n",
    "print('Test Score',cvgrid2.score(xtest,ytest))\n",
    "print('_'*25)\n",
    "print('Best parameters',cvgrid2.best_params_)\n",
    "pred2 = cvgrid2.predict(xtest)\n",
    "acc = accuracy_score(ytest,pred2)\n",
    "print('Accuracy after cv is ',acc)\n"
   ]
  },
  {
   "cell_type": "code",
   "execution_count": 14,
   "id": "de65c51b",
   "metadata": {
    "execution": {
     "iopub.execute_input": "2022-07-28T09:17:27.099860Z",
     "iopub.status.busy": "2022-07-28T09:17:27.099492Z",
     "iopub.status.idle": "2022-07-28T09:17:27.108781Z",
     "shell.execute_reply": "2022-07-28T09:17:27.107950Z"
    },
    "papermill": {
     "duration": 0.018123,
     "end_time": "2022-07-28T09:17:27.110773",
     "exception": false,
     "start_time": "2022-07-28T09:17:27.092650",
     "status": "completed"
    },
    "tags": []
   },
   "outputs": [],
   "source": [
    "output = pd.DataFrame({'RF Predictions':pred2})\n",
    "output.to_csv('RF.csv',index=False)"
   ]
  }
 ],
 "metadata": {
  "kernelspec": {
   "display_name": "Python 3",
   "language": "python",
   "name": "python3"
  },
  "language_info": {
   "codemirror_mode": {
    "name": "ipython",
    "version": 3
   },
   "file_extension": ".py",
   "mimetype": "text/x-python",
   "name": "python",
   "nbconvert_exporter": "python",
   "pygments_lexer": "ipython3",
   "version": "3.7.12"
  },
  "papermill": {
   "default_parameters": {},
   "duration": 1159.52169,
   "end_time": "2022-07-28T09:17:27.637486",
   "environment_variables": {},
   "exception": null,
   "input_path": "__notebook__.ipynb",
   "output_path": "__notebook__.ipynb",
   "parameters": {},
   "start_time": "2022-07-28T08:58:08.115796",
   "version": "2.3.4"
  }
 },
 "nbformat": 4,
 "nbformat_minor": 5
}
